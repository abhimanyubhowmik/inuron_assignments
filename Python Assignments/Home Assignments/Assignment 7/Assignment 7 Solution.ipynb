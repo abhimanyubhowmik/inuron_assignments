{
 "cells": [
  {
   "cell_type": "markdown",
   "metadata": {},
   "source": [
    "### 1. Write a function that counts how many concentric layers a rug.\n",
    "\n",
    "#### Examples\n",
    "\n",
    "count_layers([\n",
    "\n",
    "  \"AAAA\",\n",
    "\n",
    "  \"ABBA\",\n",
    "  \n",
    "  \"AAAA\"\n",
    "\n",
    "]) ➞ 2\n",
    "\n",
    "count_layers([\n",
    "\n",
    "  \"AAAAAAAAA\",\n",
    "\n",
    "  \"ABBBBBBBA\",\n",
    "\n",
    "  \"ABBAAABBA\",\n",
    "\n",
    "  \"ABBBBBBBA\",\n",
    "\n",
    "  \"AAAAAAAAA\"\n",
    "\n",
    "]) ➞ 3\n",
    "\n",
    "count_layers([\n",
    "\n",
    "  \"AAAAAAAAAAA\",\n",
    "\n",
    "  \"AABBBBBBBAA\",\n",
    "\n",
    "  \"AABCCCCCBAA\",\n",
    "\n",
    "  \"AABCAAACBAA\",\n",
    "\n",
    "  \"AABCADACBAA\",\n",
    "\n",
    "  \"AABCAAACBAA\",\n",
    "\n",
    "  \"AABCCCCCBAA\",\n",
    "\n",
    "  \"AABBBBBBBAA\",\n",
    "\n",
    "  \"AAAAAAAAAAA\"\n",
    "  \n",
    "]) ➞ 5\n"
   ]
  },
  {
   "cell_type": "code",
   "execution_count": 32,
   "metadata": {},
   "outputs": [],
   "source": [
    "def count_layers(str_list):\n",
    "    if len(str_list) % 2 != 0:\n",
    "        mid_str = str_list[(len(str_list)+1)//2 - 1]\n",
    "    else:\n",
    "        mid_str = str_list[len(str_list) // 2]\n",
    "\n",
    "    \n",
    "    count_gap = 0\n",
    "    if len(mid_str) % 2 != 0:\n",
    "        for i in range((len(mid_str) + 1)//2):\n",
    "            if mid_str[i] != mid_str[i-1]:\n",
    "                count_gap += 1\n",
    "    else:\n",
    "        for i in range(len(mid_str)//2):\n",
    "            if mid_str[i] != mid_str[i-1]:\n",
    "                count_gap += 1\n",
    "\n",
    "    \n",
    "    return count_gap + 1"
   ]
  },
  {
   "cell_type": "code",
   "execution_count": 33,
   "metadata": {},
   "outputs": [
    {
     "data": {
      "text/plain": [
       "2"
      ]
     },
     "execution_count": 33,
     "metadata": {},
     "output_type": "execute_result"
    }
   ],
   "source": [
    "count_layers([\n",
    "  \"AAAA\",\n",
    "  \"ABBA\",\n",
    "  \"AAAA\"\n",
    "])"
   ]
  },
  {
   "cell_type": "code",
   "execution_count": 34,
   "metadata": {},
   "outputs": [
    {
     "data": {
      "text/plain": [
       "3"
      ]
     },
     "execution_count": 34,
     "metadata": {},
     "output_type": "execute_result"
    }
   ],
   "source": [
    "count_layers([\n",
    "  \"AAAAAAAAA\",\n",
    "  \"ABBBBBBBA\",\n",
    "  \"ABBAAABBA\",\n",
    "  \"ABBBBBBBA\",\n",
    "  \"AAAAAAAAA\"\n",
    "])"
   ]
  },
  {
   "cell_type": "code",
   "execution_count": 35,
   "metadata": {},
   "outputs": [
    {
     "data": {
      "text/plain": [
       "5"
      ]
     },
     "execution_count": 35,
     "metadata": {},
     "output_type": "execute_result"
    }
   ],
   "source": [
    "count_layers([\n",
    "  \"AAAAAAAAAAA\",\n",
    "  \"AABBBBBBBAA\",\n",
    "  \"AABCCCCCBAA\",\n",
    "  \"AABCAAACBAA\",\n",
    "  \"AABCADACBAA\",\n",
    "  \"AABCAAACBAA\",\n",
    "  \"AABCCCCCBAA\",\n",
    "  \"AABBBBBBBAA\",\n",
    "  \"AAAAAAAAAAA\"\n",
    "]) "
   ]
  },
  {
   "cell_type": "markdown",
   "metadata": {},
   "source": [
    "### 2. There are many different styles of music and many albums exhibit multiple styles. Create a function that takes a list of musical styles from albums and returns how many styles are unique.\n",
    "\n",
    "#### Examples\n",
    "\n",
    "unique_styles([\n",
    "\n",
    "  \"Dub,Dancehall\",\n",
    "\n",
    "  \"Industrial,Heavy Metal\",\n",
    "\n",
    "  \"Techno,Dubstep\",\n",
    "\n",
    "  \"Synth-pop,Euro-Disco\",\n",
    "\n",
    "  \"Industrial,Techno,Minimal\"\n",
    "\n",
    "]) ➞ 9\n",
    "\n",
    "unique_styles([\n",
    "\n",
    "  \"Soul\",\n",
    "\n",
    "  \"House,Folk\",\n",
    "\n",
    "  \"Trance,Downtempo,Big Beat,House\",\n",
    "\n",
    "  \"Deep House\",\n",
    "\n",
    "  \"Soul\"\n",
    "  \n",
    "]) ➞ 7\n"
   ]
  },
  {
   "cell_type": "code",
   "execution_count": 40,
   "metadata": {},
   "outputs": [],
   "source": [
    "def unique_styles(style_list):\n",
    "    styles = set()\n",
    "\n",
    "    for i in style_list:\n",
    "        elements = i.split(',')\n",
    "        for j in elements:\n",
    "            styles.add(j)\n",
    "    return len(styles)"
   ]
  },
  {
   "cell_type": "code",
   "execution_count": 41,
   "metadata": {},
   "outputs": [
    {
     "data": {
      "text/plain": [
       "9"
      ]
     },
     "execution_count": 41,
     "metadata": {},
     "output_type": "execute_result"
    }
   ],
   "source": [
    "unique_styles([\n",
    "  \"Dub,Dancehall\",\n",
    "  \"Industrial,Heavy Metal\",\n",
    "  \"Techno,Dubstep\",\n",
    "  \"Synth-pop,Euro-Disco\",\n",
    "  \"Industrial,Techno,Minimal\"\n",
    "])"
   ]
  },
  {
   "cell_type": "code",
   "execution_count": 42,
   "metadata": {},
   "outputs": [
    {
     "data": {
      "text/plain": [
       "7"
      ]
     },
     "execution_count": 42,
     "metadata": {},
     "output_type": "execute_result"
    }
   ],
   "source": [
    "unique_styles([\n",
    "  \"Soul\",\n",
    "  \"House,Folk\",\n",
    "  \"Trance,Downtempo,Big Beat,House\",\n",
    "  \"Deep House\",\n",
    "  \"Soul\"\n",
    "])"
   ]
  },
  {
   "cell_type": "markdown",
   "metadata": {},
   "source": [
    "### 3. Create a function that finds a target number in a list of prime numbers. Implement a binary search algorithm in your function. The target number will be from 2 through 97. If the target is prime then return \"yes\" else return \"no\".\n",
    "\n",
    "#### Examples\n",
    "\n",
    "primes = [2, 3, 5, 7, 11, 13, 17, 19, 23, 29, 31, 37, 41, 43, 47, 53, 59, 61, 67, 71, 73, 79, 83, 89, 97]\n",
    "\n",
    "\n",
    "is_prime(primes, 3) ➞ \"yes\"\n",
    "\n",
    "is_prime(primes, 4) ➞ \"no\"\n",
    "\n",
    "is_prime(primes, 67) ➞ \"yes\"\n",
    "\n",
    "is_prime(primes, 36) ➞ \"no\""
   ]
  },
  {
   "cell_type": "code",
   "execution_count": 68,
   "metadata": {},
   "outputs": [],
   "source": [
    "def binarySearch(arr, l, r, x):\n",
    "  \n",
    "    while l <= r:\n",
    "  \n",
    "        mid = l + (r - l) // 2\n",
    " \n",
    "        if arr[mid] == x:\n",
    "            return mid\n",
    "\n",
    "        elif arr[mid] < x:\n",
    "            l = mid + 1\n",
    "\n",
    "        else:\n",
    "            r = mid - 1\n",
    "  \n",
    "    return -1\n",
    "\n",
    "def is_prime(primes,num):\n",
    "    result = binarySearch(primes, 0, len(primes)-1, num)\n",
    "  \n",
    "    if result != -1:\n",
    "        print(\"Yes\")\n",
    "    else:\n",
    "        print(\"No\")"
   ]
  },
  {
   "cell_type": "code",
   "execution_count": null,
   "metadata": {},
   "outputs": [],
   "source": [
    "primes = [2, 3, 5, 7, 11, 13, 17, 19, 23, 29, 31, 37, 41, 43, 47, 53, 59, 61, 67, 71, 73, 79, 83, 89, 97]"
   ]
  },
  {
   "cell_type": "code",
   "execution_count": 70,
   "metadata": {},
   "outputs": [
    {
     "name": "stdout",
     "output_type": "stream",
     "text": [
      "Yes\n"
     ]
    }
   ],
   "source": [
    "is_prime(primes, 3)"
   ]
  },
  {
   "cell_type": "code",
   "execution_count": 71,
   "metadata": {},
   "outputs": [
    {
     "name": "stdout",
     "output_type": "stream",
     "text": [
      "No\n"
     ]
    }
   ],
   "source": [
    "is_prime(primes, 4)"
   ]
  },
  {
   "cell_type": "code",
   "execution_count": 72,
   "metadata": {},
   "outputs": [
    {
     "name": "stdout",
     "output_type": "stream",
     "text": [
      "Yes\n"
     ]
    }
   ],
   "source": [
    "is_prime(primes, 67)"
   ]
  },
  {
   "cell_type": "markdown",
   "metadata": {},
   "source": [
    "### 4. Create a function that takes in n, a, b and returns the number of positive values raised to the nth power that lie in the range [a, b], inclusive.\n",
    "\n",
    "#### Examples\n",
    "\n",
    "power_ranger(2, 49, 65) ➞ 2\n",
    "\n",
    "(2 squares (n^2) lie between 49 and 65, 49 (7^2) and 64 (8^2))\n",
    "\n",
    "power_ranger(3, 1, 27) ➞ 3\n",
    "\n",
    "(3 cubes (n^3) lie between 1 and 27, 1 (1^3), 8 (2^3) and 27 (3^3))\n",
    "\n",
    "power_ranger(10, 1, 5) ➞ 1\n",
    "\n",
    "(1 value raised to the 10th power lies between 1 and 5, 1 (1^10))\n",
    "\n",
    "power_ranger(5, 31, 33) ➞ 1\n",
    "\n",
    "power_ranger(4, 250, 1300) ➞ 3"
   ]
  },
  {
   "cell_type": "code",
   "execution_count": 82,
   "metadata": {},
   "outputs": [],
   "source": [
    "def power_ranger(n,a,b):\n",
    "    count = 0\n",
    "    i = 1\n",
    "\n",
    "    while i**n <= b:\n",
    "        if i**n >= a and i**n <= b:\n",
    "            count += 1\n",
    "        i += 1\n",
    "    return count\n"
   ]
  },
  {
   "cell_type": "code",
   "execution_count": 83,
   "metadata": {},
   "outputs": [
    {
     "data": {
      "text/plain": [
       "2"
      ]
     },
     "execution_count": 83,
     "metadata": {},
     "output_type": "execute_result"
    }
   ],
   "source": [
    "power_ranger(2, 49, 65)"
   ]
  },
  {
   "cell_type": "code",
   "execution_count": 84,
   "metadata": {},
   "outputs": [
    {
     "data": {
      "text/plain": [
       "3"
      ]
     },
     "execution_count": 84,
     "metadata": {},
     "output_type": "execute_result"
    }
   ],
   "source": [
    "power_ranger(3, 1, 27)"
   ]
  },
  {
   "cell_type": "code",
   "execution_count": 85,
   "metadata": {},
   "outputs": [
    {
     "data": {
      "text/plain": [
       "1"
      ]
     },
     "execution_count": 85,
     "metadata": {},
     "output_type": "execute_result"
    }
   ],
   "source": [
    "power_ranger(10, 1, 5)"
   ]
  },
  {
   "cell_type": "code",
   "execution_count": 86,
   "metadata": {},
   "outputs": [
    {
     "data": {
      "text/plain": [
       "1"
      ]
     },
     "execution_count": 86,
     "metadata": {},
     "output_type": "execute_result"
    }
   ],
   "source": [
    "power_ranger(5, 31, 33)"
   ]
  },
  {
   "cell_type": "code",
   "execution_count": 87,
   "metadata": {},
   "outputs": [
    {
     "data": {
      "text/plain": [
       "3"
      ]
     },
     "execution_count": 87,
     "metadata": {},
     "output_type": "execute_result"
    }
   ],
   "source": [
    "power_ranger(4, 250, 1300)"
   ]
  },
  {
   "cell_type": "markdown",
   "metadata": {},
   "source": [
    "### 5. Given a number, return the difference between the maximum and minimum numbers that can be formed when the digits are rearranged.\n",
    "\n",
    "#### Examples\n",
    "\n",
    "rearranged_difference(972882) ➞ 760833\n",
    "\n",
    "(988722 - 227889 = 760833)\n",
    "\n",
    "rearranged_difference(3320707) ➞ 7709823\n",
    "\n",
    "(7733200 - 23377 = 7709823)\n",
    "\n",
    "rearranged_difference(90010) ➞ 90981\n",
    "\n",
    "(91000 - 19 = 90981)\n"
   ]
  },
  {
   "cell_type": "code",
   "execution_count": 117,
   "metadata": {},
   "outputs": [],
   "source": [
    "def rearranged_difference(num):\n",
    "    num_list = []\n",
    "    rem = num % 10 \n",
    "    num_list.append(rem)\n",
    "    qut = num // 10\n",
    "    while qut > 0:\n",
    "        rem = qut % 10\n",
    "        num_list.append(rem)\n",
    "        qut = qut // 10\n",
    "    \n",
    "    large_num = 0\n",
    "    num_list.sort()\n",
    "    for j in range(len(num_list)):\n",
    "        large_num += num_list[j] * (10**j)\n",
    "    \n",
    "    small_num = 0\n",
    "    num_list.sort(reverse=True)\n",
    "    for i in range(len(num_list)):\n",
    "        small_num += num_list[i] * (10**i)\n",
    "\n",
    "    \n",
    "    return large_num - small_num"
   ]
  },
  {
   "cell_type": "code",
   "execution_count": 118,
   "metadata": {},
   "outputs": [
    {
     "data": {
      "text/plain": [
       "760833"
      ]
     },
     "execution_count": 118,
     "metadata": {},
     "output_type": "execute_result"
    }
   ],
   "source": [
    "rearranged_difference(972882)"
   ]
  },
  {
   "cell_type": "code",
   "execution_count": 119,
   "metadata": {},
   "outputs": [
    {
     "data": {
      "text/plain": [
       "7709823"
      ]
     },
     "execution_count": 119,
     "metadata": {},
     "output_type": "execute_result"
    }
   ],
   "source": [
    "rearranged_difference(3320707)"
   ]
  },
  {
   "cell_type": "code",
   "execution_count": 120,
   "metadata": {},
   "outputs": [
    {
     "data": {
      "text/plain": [
       "90981"
      ]
     },
     "execution_count": 120,
     "metadata": {},
     "output_type": "execute_result"
    }
   ],
   "source": [
    "rearranged_difference(90010)"
   ]
  },
  {
   "cell_type": "code",
   "execution_count": null,
   "metadata": {},
   "outputs": [],
   "source": []
  }
 ],
 "metadata": {
  "interpreter": {
   "hash": "aee8b7b246df8f9039afb4144a1f6fd8d2ca17a180786b69acc140d282b71a49"
  },
  "kernelspec": {
   "display_name": "Python 3.9.7 64-bit",
   "language": "python",
   "name": "python3"
  },
  "language_info": {
   "codemirror_mode": {
    "name": "ipython",
    "version": 3
   },
   "file_extension": ".py",
   "mimetype": "text/x-python",
   "name": "python",
   "nbconvert_exporter": "python",
   "pygments_lexer": "ipython3",
   "version": "3.9.7"
  },
  "orig_nbformat": 4
 },
 "nbformat": 4,
 "nbformat_minor": 2
}
