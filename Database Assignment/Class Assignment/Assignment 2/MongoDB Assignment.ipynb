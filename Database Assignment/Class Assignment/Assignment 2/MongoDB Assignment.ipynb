{
 "cells": [
  {
   "cell_type": "markdown",
   "metadata": {},
   "source": [
    "### Download of the Dataset"
   ]
  },
  {
   "cell_type": "code",
   "execution_count": 3,
   "metadata": {},
   "outputs": [
    {
     "name": "stdout",
     "output_type": "stream",
     "text": [
      "--2022-02-25 12:46:46--  https://archive.ics.uci.edu/ml/machine-learning-databases/00448/carbon_nanotubes.csv\n",
      "Resolving archive.ics.uci.edu (archive.ics.uci.edu)... 128.195.10.252\n",
      "Connecting to archive.ics.uci.edu (archive.ics.uci.edu)|128.195.10.252|:443... connected.\n",
      "HTTP request sent, awaiting response... 200 OK\n",
      "Length: 628633 (614K) [application/x-httpd-php]\n",
      "Saving to: ‘carbon_nanotubes.csv’\n",
      "\n",
      "carbon_nanotubes.cs 100%[===================>] 613.90K   314KB/s    in 2.0s    \n",
      "\n",
      "2022-02-25 12:46:51 (314 KB/s) - ‘carbon_nanotubes.csv’ saved [628633/628633]\n",
      "\n"
     ]
    }
   ],
   "source": [
    "!wget https://archive.ics.uci.edu/ml/machine-learning-databases/00448/carbon_nanotubes.csv"
   ]
  },
  {
   "cell_type": "markdown",
   "metadata": {},
   "source": [
    "### Connection with MongoDB Atlas"
   ]
  },
  {
   "cell_type": "code",
   "execution_count": 1,
   "metadata": {},
   "outputs": [],
   "source": [
    "import MongoConnect\n",
    "conn = MongoConnect.connection('bhowmik_abhimanyu','Abhi2000','myFirstDatabase')\n",
    "client = conn.connect()"
   ]
  },
  {
   "cell_type": "code",
   "execution_count": 35,
   "metadata": {},
   "outputs": [
    {
     "data": {
      "text/plain": [
       "['new_data', 'test', 'admin', 'local']"
      ]
     },
     "execution_count": 35,
     "metadata": {},
     "output_type": "execute_result"
    }
   ],
   "source": [
    "import MongoOperations\n",
    "\n",
    "dbOps = MongoOperations.DatabaseOps(client)\n",
    "dbOps.ViewDB()"
   ]
  },
  {
   "cell_type": "code",
   "execution_count": 32,
   "metadata": {},
   "outputs": [],
   "source": [
    "db = dbOps.SelectDB('CarbonNanotube')"
   ]
  },
  {
   "cell_type": "code",
   "execution_count": 33,
   "metadata": {},
   "outputs": [],
   "source": [
    "collOps = MongoOperations.collectionOps(db)\n",
    "coll = collOps.SelectColl('CN_Data')"
   ]
  },
  {
   "cell_type": "markdown",
   "metadata": {},
   "source": [
    "### Insertion of Bulk Data From CSV"
   ]
  },
  {
   "cell_type": "code",
   "execution_count": 5,
   "metadata": {},
   "outputs": [],
   "source": [
    "docOps = MongoOperations.documentOps(coll)"
   ]
  },
  {
   "cell_type": "code",
   "execution_count": 83,
   "metadata": {},
   "outputs": [
    {
     "data": {
      "text/plain": [
       "<pymongo.results.InsertManyResult at 0x7fb4915a0800>"
      ]
     },
     "execution_count": 83,
     "metadata": {},
     "output_type": "execute_result"
    }
   ],
   "source": [
    "docOps.InsertCSV('carbon_nanotubes.csv',';')"
   ]
  },
  {
   "cell_type": "markdown",
   "metadata": {},
   "source": [
    "#### Result:\n",
    "\n",
    "![](Created.png)"
   ]
  },
  {
   "cell_type": "markdown",
   "metadata": {},
   "source": [
    "### Insertion of Single Record"
   ]
  },
  {
   "cell_type": "code",
   "execution_count": 6,
   "metadata": {},
   "outputs": [
    {
     "data": {
      "text/plain": [
       "<pymongo.results.InsertOneResult at 0x7f9d3d53c400>"
      ]
     },
     "execution_count": 6,
     "metadata": {},
     "output_type": "execute_result"
    }
   ],
   "source": [
    "new_doc = ({\n",
    "    'type': 'fake_data',\n",
    "    'database': 'Carbon Nanotube',\n",
    "    'admin': 'Abhimanyu Bhowmik'\n",
    "})\n",
    "\n",
    "docOps.InsertDoc(new_doc)"
   ]
  },
  {
   "cell_type": "code",
   "execution_count": 8,
   "metadata": {},
   "outputs": [],
   "source": [
    "docQuery = MongoOperations.documentQuery(coll)"
   ]
  },
  {
   "cell_type": "code",
   "execution_count": 7,
   "metadata": {},
   "outputs": [
    {
     "name": "stdout",
     "output_type": "stream",
     "text": [
      "{'_id': ObjectId('6219220a2d1fa2a0c577a79c'), 'type': 'fake_data', 'database': 'Carbon Nanotube', 'admin': 'Abhimanyu Bhowmik'}\n"
     ]
    }
   ],
   "source": [
    "new_data = docQuery.FindDoc('type','fake_data')\n",
    "for i in new_data:\n",
    "    print(i)"
   ]
  },
  {
   "cell_type": "markdown",
   "metadata": {},
   "source": [
    "### Updatetion of Record"
   ]
  },
  {
   "cell_type": "code",
   "execution_count": 6,
   "metadata": {},
   "outputs": [
    {
     "data": {
      "text/plain": [
       "<pymongo.results.UpdateResult at 0x7faac392e840>"
      ]
     },
     "execution_count": 6,
     "metadata": {},
     "output_type": "execute_result"
    }
   ],
   "source": [
    "docOps.UpdateDoc('type','fake_data','admin','Abhi')"
   ]
  },
  {
   "cell_type": "code",
   "execution_count": 10,
   "metadata": {},
   "outputs": [
    {
     "name": "stdout",
     "output_type": "stream",
     "text": [
      "{'_id': ObjectId('6219220a2d1fa2a0c577a79c'), 'type': 'fake_data', 'database': 'Carbon Nanotube', 'admin': 'Abhi'}\n"
     ]
    }
   ],
   "source": [
    "updated_data = docQuery.FindDoc('type','fake_data')\n",
    "for i in updated_data:\n",
    "    print(i)"
   ]
  },
  {
   "cell_type": "markdown",
   "metadata": {},
   "source": [
    "### Finding of Data"
   ]
  },
  {
   "cell_type": "code",
   "execution_count": 25,
   "metadata": {},
   "outputs": [],
   "source": [
    "all_data = docQuery.FindDoc()"
   ]
  },
  {
   "cell_type": "code",
   "execution_count": 26,
   "metadata": {},
   "outputs": [
    {
     "name": "stdout",
     "output_type": "stream",
     "text": [
      "[{'_id': ObjectId('62191b94a5aaa226d46ca2c1'), 'Chiral indice n': 2, 'Chiral indice m': 1, 'Initial atomic coordinate u': '0,679005', 'Initial atomic coordinate v': '0,701318', 'Initial atomic coordinate w': '0,017033', \"Calculated atomic coordinates u'\": '0,721039', \"Calculated atomic coordinates v'\": '0,730232', \"Calculated atomic coordinates w'\": '0,017014'}, {'_id': ObjectId('62191b94a5aaa226d46ca2c2'), 'Chiral indice n': 2, 'Chiral indice m': 1, 'Initial atomic coordinate u': '0,717298', 'Initial atomic coordinate v': '0,642129', 'Initial atomic coordinate w': '0,231319', \"Calculated atomic coordinates u'\": '0,738414', \"Calculated atomic coordinates v'\": '0,65675', \"Calculated atomic coordinates w'\": '0,232369'}, {'_id': ObjectId('62191b94a5aaa226d46ca2c3'), 'Chiral indice n': 2, 'Chiral indice m': 1, 'Initial atomic coordinate u': '0,489336', 'Initial atomic coordinate v': '0,303751', 'Initial atomic coordinate w': '0,088462', \"Calculated atomic coordinates u'\": '0,477676', \"Calculated atomic coordinates v'\": '0,263221', \"Calculated atomic coordinates w'\": '0,088712'}, {'_id': ObjectId('62191b94a5aaa226d46ca2c4'), 'Chiral indice n': 2, 'Chiral indice m': 1, 'Initial atomic coordinate u': '0,413957', 'Initial atomic coordinate v': '0,632996', 'Initial atomic coordinate w': '0,040843', \"Calculated atomic coordinates u'\": '0,408823', \"Calculated atomic coordinates v'\": '0,657897', \"Calculated atomic coordinates w'\": '0,039796'}, {'_id': ObjectId('62191b94a5aaa226d46ca2c5'), 'Chiral indice n': 2, 'Chiral indice m': 1, 'Initial atomic coordinate u': '0,334292', 'Initial atomic coordinate v': '0,543401', 'Initial atomic coordinate w': '0,15989', \"Calculated atomic coordinates u'\": '0,303349', \"Calculated atomic coordinates v'\": '0,558807', \"Calculated atomic coordinates w'\": '0,157373'}]\n"
     ]
    }
   ],
   "source": [
    "all_data_list = []\n",
    "for i in all_data:\n",
    "    all_data_list.append(i)\n",
    "print(all_data_list[:5])"
   ]
  },
  {
   "cell_type": "markdown",
   "metadata": {},
   "source": [
    "### Filtering Data"
   ]
  },
  {
   "cell_type": "code",
   "execution_count": 28,
   "metadata": {},
   "outputs": [
    {
     "name": "stdout",
     "output_type": "stream",
     "text": [
      "{'_id': ObjectId('62191b94a5aaa226d46ca2c1'), 'Chiral indice n': 2, 'Chiral indice m': 1, 'Initial atomic coordinate u': '0,679005', 'Initial atomic coordinate v': '0,701318', 'Initial atomic coordinate w': '0,017033', \"Calculated atomic coordinates u'\": '0,721039', \"Calculated atomic coordinates v'\": '0,730232', \"Calculated atomic coordinates w'\": '0,017014'}\n",
      "{'_id': ObjectId('62191b94a5aaa226d46ca2c2'), 'Chiral indice n': 2, 'Chiral indice m': 1, 'Initial atomic coordinate u': '0,717298', 'Initial atomic coordinate v': '0,642129', 'Initial atomic coordinate w': '0,231319', \"Calculated atomic coordinates u'\": '0,738414', \"Calculated atomic coordinates v'\": '0,65675', \"Calculated atomic coordinates w'\": '0,232369'}\n",
      "{'_id': ObjectId('62191b94a5aaa226d46ca2c3'), 'Chiral indice n': 2, 'Chiral indice m': 1, 'Initial atomic coordinate u': '0,489336', 'Initial atomic coordinate v': '0,303751', 'Initial atomic coordinate w': '0,088462', \"Calculated atomic coordinates u'\": '0,477676', \"Calculated atomic coordinates v'\": '0,263221', \"Calculated atomic coordinates w'\": '0,088712'}\n",
      "{'_id': ObjectId('62191b94a5aaa226d46ca2c4'), 'Chiral indice n': 2, 'Chiral indice m': 1, 'Initial atomic coordinate u': '0,413957', 'Initial atomic coordinate v': '0,632996', 'Initial atomic coordinate w': '0,040843', \"Calculated atomic coordinates u'\": '0,408823', \"Calculated atomic coordinates v'\": '0,657897', \"Calculated atomic coordinates w'\": '0,039796'}\n",
      "{'_id': ObjectId('62191b94a5aaa226d46ca2c5'), 'Chiral indice n': 2, 'Chiral indice m': 1, 'Initial atomic coordinate u': '0,334292', 'Initial atomic coordinate v': '0,543401', 'Initial atomic coordinate w': '0,15989', \"Calculated atomic coordinates u'\": '0,303349', \"Calculated atomic coordinates v'\": '0,558807', \"Calculated atomic coordinates w'\": '0,157373'}\n",
      "{'_id': ObjectId('62191b94a5aaa226d46ca2c6'), 'Chiral indice n': 2, 'Chiral indice m': 1, 'Initial atomic coordinate u': '0,510664', 'Initial atomic coordinate v': '0,696249', 'Initial atomic coordinate w': '0,255128', \"Calculated atomic coordinates u'\": '0,496977', \"Calculated atomic coordinates v'\": '0,725608', \"Calculated atomic coordinates w'\": '0,25597'}\n",
      "{'_id': ObjectId('62191b94a5aaa226d46ca2c7'), 'Chiral indice n': 2, 'Chiral indice m': 1, 'Initial atomic coordinate u': '0,413957', 'Initial atomic coordinate v': '0,632996', 'Initial atomic coordinate w': '0,374176', \"Calculated atomic coordinates u'\": '0,390878', \"Calculated atomic coordinates v'\": '0,657645', \"Calculated atomic coordinates w'\": '0,374735'}\n",
      "{'_id': ObjectId('62191b94a5aaa226d46ca2c8'), 'Chiral indice n': 2, 'Chiral indice m': 1, 'Initial atomic coordinate u': '0,712552', 'Initial atomic coordinate v': '0,55479', 'Initial atomic coordinate w': '0,112271', \"Calculated atomic coordinates u'\": '0,750056', \"Calculated atomic coordinates v'\": '0,561494', \"Calculated atomic coordinates w'\": '0,114944'}\n",
      "{'_id': ObjectId('62191b94a5aaa226d46ca2c9'), 'Chiral indice n': 2, 'Chiral indice m': 1, 'Initial atomic coordinate u': '0,320995', 'Initial atomic coordinate v': '0,298682', 'Initial atomic coordinate w': '0,1837', \"Calculated atomic coordinates u'\": '0,281301', \"Calculated atomic coordinates v'\": '0,261433', \"Calculated atomic coordinates w'\": '0,182779'}\n",
      "{'_id': ObjectId('62191b94a5aaa226d46ca2ca'), 'Chiral indice n': 2, 'Chiral indice m': 1, 'Initial atomic coordinate u': '0,394742', 'Initial atomic coordinate v': '0,279367', 'Initial atomic coordinate w': '0,302747', \"Calculated atomic coordinates u'\": '0,35086', \"Calculated atomic coordinates v'\": '0,2335', \"Calculated atomic coordinates w'\": '0,302196'}\n",
      "{'_id': ObjectId('62191b94a5aaa226d46ca2cb'), 'Chiral indice n': 2, 'Chiral indice m': 1, 'Initial atomic coordinate u': '0,282702', 'Initial atomic coordinate v': '0,357871', 'Initial atomic coordinate w': '0,397985', \"Calculated atomic coordinates u'\": '0,229138', \"Calculated atomic coordinates v'\": '0,328729', \"Calculated atomic coordinates w'\": '0,398581'}\n",
      "{'_id': ObjectId('62191b94a5aaa226d46ca2cc'), 'Chiral indice n': 2, 'Chiral indice m': 1, 'Initial atomic coordinate u': '0,320995', 'Initial atomic coordinate v': '0,298682', 'Initial atomic coordinate w': '0,517033', \"Calculated atomic coordinates u'\": '0,278752', \"Calculated atomic coordinates v'\": '0,269615', \"Calculated atomic coordinates w'\": '0,51733'}\n",
      "{'_id': ObjectId('62191b94a5aaa226d46ca2cd'), 'Chiral indice n': 2, 'Chiral indice m': 1, 'Initial atomic coordinate u': '0,605258', 'Initial atomic coordinate v': '0,720633', 'Initial atomic coordinate w': '0,469414', \"Calculated atomic coordinates u'\": '0,613415', \"Calculated atomic coordinates v'\": '0,760009', \"Calculated atomic coordinates w'\": '0,469452'}\n",
      "{'_id': ObjectId('62191b94a5aaa226d46ca2ce'), 'Chiral indice n': 2, 'Chiral indice m': 1, 'Initial atomic coordinate u': '0,510664', 'Initial atomic coordinate v': '0,696249', 'Initial atomic coordinate w': '0,588462', \"Calculated atomic coordinates u'\": '0,521991', \"Calculated atomic coordinates v'\": '0,736991', \"Calculated atomic coordinates w'\": '0,588946'}\n",
      "{'_id': ObjectId('62191b94a5aaa226d46ca2cf'), 'Chiral indice n': 2, 'Chiral indice m': 1, 'Initial atomic coordinate u': '0,679005', 'Initial atomic coordinate v': '0,701318', 'Initial atomic coordinate w': '0,6837', \"Calculated atomic coordinates u'\": '0,718811', \"Calculated atomic coordinates v'\": '0,738577', \"Calculated atomic coordinates w'\": '0,68244'}\n",
      "{'_id': ObjectId('62191b94a5aaa226d46ca2d0'), 'Chiral indice n': 2, 'Chiral indice m': 1, 'Initial atomic coordinate u': '0,605258', 'Initial atomic coordinate v': '0,720633', 'Initial atomic coordinate w': '0,802747', \"Calculated atomic coordinates u'\": '0,649178', \"Calculated atomic coordinates v'\": '0,766301', \"Calculated atomic coordinates w'\": '0,80193'}\n",
      "{'_id': ObjectId('62191b94a5aaa226d46ca2d1'), 'Chiral indice n': 2, 'Chiral indice m': 1, 'Initial atomic coordinate u': '0,665708', 'Initial atomic coordinate v': '0,456599', 'Initial atomic coordinate w': '0,326557', \"Calculated atomic coordinates u'\": '0,680389', \"Calculated atomic coordinates v'\": '0,444562', \"Calculated atomic coordinates w'\": '0,327502'}\n",
      "{'_id': ObjectId('62191b94a5aaa226d46ca2d2'), 'Chiral indice n': 2, 'Chiral indice m': 1, 'Initial atomic coordinate u': '0,712552', 'Initial atomic coordinate v': '0,55479', 'Initial atomic coordinate w': '0,445605', \"Calculated atomic coordinates u'\": '0,737216', \"Calculated atomic coordinates v'\": '0,552056', \"Calculated atomic coordinates w'\": '0,443517'}\n",
      "{'_id': ObjectId('62191b94a5aaa226d46ca2d3'), 'Chiral indice n': 2, 'Chiral indice m': 1, 'Initial atomic coordinate u': '0,586043', 'Initial atomic coordinate v': '0,367004', 'Initial atomic coordinate w': '0,540843', \"Calculated atomic coordinates u'\": '0,591153', \"Calculated atomic coordinates v'\": '0,342069', \"Calculated atomic coordinates w'\": '0,540172'}\n",
      "{'_id': ObjectId('62191b94a5aaa226d46ca2d4'), 'Chiral indice n': 2, 'Chiral indice m': 1, 'Initial atomic coordinate u': '0,665708', 'Initial atomic coordinate v': '0,456599', 'Initial atomic coordinate w': '0,65989', \"Calculated atomic coordinates u'\": '0,697242', \"Calculated atomic coordinates v'\": '0,441516', \"Calculated atomic coordinates w'\": '0,657521'}\n",
      "{'_id': ObjectId('62191b94a5aaa226d46ca2d5'), 'Chiral indice n': 2, 'Chiral indice m': 1, 'Initial atomic coordinate u': '0,287448', 'Initial atomic coordinate v': '0,44521', 'Initial atomic coordinate w': '0,612271', \"Calculated atomic coordinates u'\": '0,249571', \"Calculated atomic coordinates v'\": '0,438057', \"Calculated atomic coordinates w'\": '0,614939'}\n",
      "{'_id': ObjectId('62191b94a5aaa226d46ca2d6'), 'Chiral indice n': 2, 'Chiral indice m': 1, 'Initial atomic coordinate u': '0,282702', 'Initial atomic coordinate v': '0,357871', 'Initial atomic coordinate w': '0,731319', \"Calculated atomic coordinates u'\": '0,262916', \"Calculated atomic coordinates v'\": '0,343512', \"Calculated atomic coordinates w'\": '0,732213'}\n",
      "{'_id': ObjectId('62191b94a5aaa226d46ca2d7'), 'Chiral indice n': 2, 'Chiral indice m': 1, 'Initial atomic coordinate u': '0,334292', 'Initial atomic coordinate v': '0,543401', 'Initial atomic coordinate w': '0,826557', \"Calculated atomic coordinates u'\": '0,320053', \"Calculated atomic coordinates v'\": '0,555754', \"Calculated atomic coordinates w'\": '0,827503'}\n",
      "{'_id': ObjectId('62191b94a5aaa226d46ca2d8'), 'Chiral indice n': 2, 'Chiral indice m': 1, 'Initial atomic coordinate u': '0,287448', 'Initial atomic coordinate v': '0,44521', 'Initial atomic coordinate w': '0,945605', \"Calculated atomic coordinates u'\": '0,262054', \"Calculated atomic coordinates v'\": '0,44817', \"Calculated atomic coordinates w'\": '0,943402'}\n",
      "{'_id': ObjectId('62191b94a5aaa226d46ca2d9'), 'Chiral indice n': 2, 'Chiral indice m': 1, 'Initial atomic coordinate u': '0,717298', 'Initial atomic coordinate v': '0,642129', 'Initial atomic coordinate w': '0,897985', \"Calculated atomic coordinates u'\": '0,770521', \"Calculated atomic coordinates v'\": '0,670869', \"Calculated atomic coordinates w'\": '0,898389'}\n",
      "{'_id': ObjectId('62191b94a5aaa226d46ca2da'), 'Chiral indice n': 2, 'Chiral indice m': 1, 'Initial atomic coordinate u': '0,489336', 'Initial atomic coordinate v': '0,303751', 'Initial atomic coordinate w': '0,755128', \"Calculated atomic coordinates u'\": '0,50356', \"Calculated atomic coordinates v'\": '0,27443', \"Calculated atomic coordinates w'\": '0,75629'}\n",
      "{'_id': ObjectId('62191b94a5aaa226d46ca2db'), 'Chiral indice n': 2, 'Chiral indice m': 1, 'Initial atomic coordinate u': '0,586043', 'Initial atomic coordinate v': '0,367004', 'Initial atomic coordinate w': '0,874176', \"Calculated atomic coordinates u'\": '0,609', \"Calculated atomic coordinates v'\": '0,342123', \"Calculated atomic coordinates w'\": '0,875088'}\n",
      "{'_id': ObjectId('62191b94a5aaa226d46ca2dc'), 'Chiral indice n': 2, 'Chiral indice m': 1, 'Initial atomic coordinate u': '0,394742', 'Initial atomic coordinate v': '0,279367', 'Initial atomic coordinate w': '0,969414', \"Calculated atomic coordinates u'\": '0,385666', \"Calculated atomic coordinates v'\": '0,240071', \"Calculated atomic coordinates w'\": '0,969157'}\n"
     ]
    }
   ],
   "source": [
    "nano_data = docQuery.FindDoc('Chiral indice n',{'$lte':2})\n",
    "for n in nano_data:\n",
    "    print(n)"
   ]
  },
  {
   "cell_type": "markdown",
   "metadata": {},
   "source": [
    "### Deletion of Data"
   ]
  },
  {
   "cell_type": "code",
   "execution_count": 29,
   "metadata": {},
   "outputs": [],
   "source": [
    "docOps.DeleteDoc('type','fake_data')"
   ]
  },
  {
   "cell_type": "code",
   "execution_count": 30,
   "metadata": {},
   "outputs": [],
   "source": [
    "deleted_data = docQuery.FindDoc('type','fake_data')\n",
    "for i in deleted_data:\n",
    "    print(i)"
   ]
  },
  {
   "cell_type": "markdown",
   "metadata": {},
   "source": [
    "### Drop Collection"
   ]
  },
  {
   "cell_type": "code",
   "execution_count": 34,
   "metadata": {},
   "outputs": [],
   "source": [
    "collOps.DeleteColl('CN_Data')"
   ]
  },
  {
   "cell_type": "markdown",
   "metadata": {},
   "source": [
    "### Drop Database"
   ]
  },
  {
   "cell_type": "code",
   "execution_count": 36,
   "metadata": {},
   "outputs": [],
   "source": [
    "dbOps.DropDB('CarbonNanotube')"
   ]
  },
  {
   "cell_type": "markdown",
   "metadata": {},
   "source": [
    "#### Result:\n",
    "\n",
    "![](deleted.png)"
   ]
  }
 ],
 "metadata": {
  "interpreter": {
   "hash": "aee8b7b246df8f9039afb4144a1f6fd8d2ca17a180786b69acc140d282b71a49"
  },
  "kernelspec": {
   "display_name": "Python 3.9.7 64-bit",
   "language": "python",
   "name": "python3"
  },
  "language_info": {
   "codemirror_mode": {
    "name": "ipython",
    "version": 3
   },
   "file_extension": ".py",
   "mimetype": "text/x-python",
   "name": "python",
   "nbconvert_exporter": "python",
   "pygments_lexer": "ipython3",
   "version": "3.9.7"
  },
  "orig_nbformat": 4
 },
 "nbformat": 4,
 "nbformat_minor": 2
}
