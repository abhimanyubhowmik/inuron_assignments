{
 "cells": [
  {
   "cell_type": "markdown",
   "metadata": {},
   "source": [
    "### Counting, filtering and alphabetical counts of words form the given dataset."
   ]
  },
  {
   "cell_type": "code",
   "execution_count": 48,
   "metadata": {},
   "outputs": [],
   "source": [
    "class word_operations :\n",
    "\n",
    "    def __init__(self,filename) -> None:\n",
    "        self.filename = filename\n",
    "\n",
    "    def word_count(self):\n",
    "        \"\"\"Count the number of words and return the tuple of words and their counts\"\"\"\n",
    "        with open(self.filename) as f:\n",
    "            word_dict = {}\n",
    "            for i in f:\n",
    "                if i not in word_dict:\n",
    "                    word_dict[i.replace('\\n','')] = 1\n",
    "                else:\n",
    "                    word_dict[i.replace('\\n','')] += 1\n",
    "\n",
    "        word_list = list(word_dict.items())\n",
    "        return word_list\n",
    "    \n",
    "    def alpha_count(self):\n",
    "        \"\"\"Count the number of words starting with the respective alphabets\"\"\"\n",
    "        with open(self.filename) as f:\n",
    "            alpha_dict = {}\n",
    "            for i in f:\n",
    "                if i[0] not in alpha_dict:\n",
    "                    alpha_dict[i[0]] = 1\n",
    "                else:\n",
    "                    alpha_dict[i[0]] += 1\n",
    "        alpha_list = list(alpha_dict.items())\n",
    "        return alpha_list\n",
    "    \n",
    "    def word_filter(self):\n",
    "        \"\"\"Filter alphabets from other special characters\"\"\"\n",
    "        with open(self.filename) as f:\n",
    "            wfilter_list = []\n",
    "            for i in f:\n",
    "                out = ''\n",
    "                for j in i:\n",
    "                    if j.isalpha():\n",
    "                        out += j\n",
    "                wfilter_list.append(out)\n",
    "        return wfilter_list"
   ]
  },
  {
   "cell_type": "code",
   "execution_count": 51,
   "metadata": {},
   "outputs": [],
   "source": [
    "w_f1 = word_operations('vocab.enron.txt')\n",
    "w1 = w_f1.word_count()\n",
    "a1 = w_f1.alpha_count()\n",
    "f1 = w_f1.word_filter()"
   ]
  },
  {
   "cell_type": "code",
   "execution_count": 52,
   "metadata": {},
   "outputs": [],
   "source": [
    "w_f2 = word_operations('vocab.kos.txt')\n",
    "w2 = w_f2.word_count()\n",
    "a2 = w_f2.alpha_count()\n",
    "f2 = w_f2.word_filter()"
   ]
  },
  {
   "cell_type": "code",
   "execution_count": 53,
   "metadata": {},
   "outputs": [],
   "source": [
    "w_f3 = word_operations('vocab.nips.txt')\n",
    "w3 = w_f3.word_count()\n",
    "a3 = w_f3.alpha_count()\n",
    "f3 = w_f3.word_filter()"
   ]
  },
  {
   "cell_type": "code",
   "execution_count": 54,
   "metadata": {},
   "outputs": [],
   "source": [
    "w_f4 = word_operations('vocab.nytimes.txt')\n",
    "w4 = w_f4.word_count()\n",
    "a4 = w_f4.alpha_count()\n",
    "f4 = w_f4.word_filter()"
   ]
  },
  {
   "cell_type": "code",
   "execution_count": 55,
   "metadata": {},
   "outputs": [],
   "source": [
    "w_f5 = word_operations('vocab.pubmed.txt')\n",
    "w5 = w_f5.word_count()\n",
    "a5 = w_f5.alpha_count()\n",
    "f5 = w_f5.word_filter()"
   ]
  },
  {
   "cell_type": "markdown",
   "metadata": {},
   "source": [
    "### Uploading all the words to the Sqlite database"
   ]
  },
  {
   "cell_type": "code",
   "execution_count": 29,
   "metadata": {},
   "outputs": [],
   "source": [
    "w_tot = w1 + w2 + w3 + w4 + w5"
   ]
  },
  {
   "cell_type": "code",
   "execution_count": 30,
   "metadata": {},
   "outputs": [],
   "source": [
    "import sqlite3"
   ]
  },
  {
   "cell_type": "code",
   "execution_count": 32,
   "metadata": {},
   "outputs": [],
   "source": [
    "db = sqlite3.connect('word.db')\n",
    "c = db.cursor()"
   ]
  },
  {
   "cell_type": "code",
   "execution_count": 33,
   "metadata": {},
   "outputs": [
    {
     "data": {
      "text/plain": [
       "<sqlite3.Cursor at 0x7fb63b7e7420>"
      ]
     },
     "execution_count": 33,
     "metadata": {},
     "output_type": "execute_result"
    }
   ],
   "source": [
    "c.execute('create table word_count (word text, count integer)')"
   ]
  },
  {
   "cell_type": "code",
   "execution_count": 39,
   "metadata": {},
   "outputs": [],
   "source": [
    "for i in w_tot:\n",
    "    word = i[0]\n",
    "    count = i[1]\n",
    "    c.execute('insert into word_count values(\"{word}\", {count})'.format(word=word, count=count))"
   ]
  },
  {
   "cell_type": "code",
   "execution_count": 40,
   "metadata": {},
   "outputs": [],
   "source": [
    "db.commit()"
   ]
  }
 ],
 "metadata": {
  "interpreter": {
   "hash": "aee8b7b246df8f9039afb4144a1f6fd8d2ca17a180786b69acc140d282b71a49"
  },
  "kernelspec": {
   "display_name": "Python 3.9.7 64-bit",
   "language": "python",
   "name": "python3"
  },
  "language_info": {
   "codemirror_mode": {
    "name": "ipython",
    "version": 3
   },
   "file_extension": ".py",
   "mimetype": "text/x-python",
   "name": "python",
   "nbconvert_exporter": "python",
   "pygments_lexer": "ipython3",
   "version": "3.9.7"
  },
  "orig_nbformat": 4
 },
 "nbformat": 4,
 "nbformat_minor": 2
}
