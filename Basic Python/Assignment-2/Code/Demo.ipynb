{
 "cells": [
  {
   "cell_type": "code",
   "execution_count": 2,
   "metadata": {},
   "outputs": [],
   "source": [
    "import os"
   ]
  },
  {
   "cell_type": "code",
   "execution_count": 3,
   "metadata": {},
   "outputs": [],
   "source": [
    "search_path = '/Users/abhimanyubhowmik/Desktop'"
   ]
  },
  {
   "cell_type": "code",
   "execution_count": 4,
   "metadata": {},
   "outputs": [],
   "source": [
    "l = os.listdir(search_path)"
   ]
  },
  {
   "cell_type": "code",
   "execution_count": 5,
   "metadata": {},
   "outputs": [],
   "source": [
    "def output(l):\n",
    "    out = ''\n",
    "    for i in l:\n",
    "       out +=  str(i) + \"\\n\"\n",
    "       \n",
    "    return out\n",
    "     "
   ]
  },
  {
   "cell_type": "code",
   "execution_count": 8,
   "metadata": {},
   "outputs": [
    {
     "name": "stdout",
     "output_type": "stream",
     "text": [
      "Screenshot 2022-01-02 at 12.12.45 PM.png\n",
      "inbox_4440537_a717c1758e1061d3b8524ad4cf495795_ml.png\n",
      "Experience Letter_Wenergy_Abhimanyu..pdf\n",
      "Screenshot 2021-10-25 at 2.39.12 PM.png\n",
      ".DS_Store 4\n",
      "670261e0-84ee-43e7-b7f2-a73b02fd4db9.png\n",
      ".DS_Store 3\n",
      "Screenshot 2022-01-23 at 11.50.46 AM.png\n",
      "Screenshot 2021-12-11 at 1.37.03 PM.png\n",
      ".DS_Store 2\n",
      ".DS_Store 5\n",
      "0e782911-9944-4546-b9fd-df66d087b28d.png\n",
      "Screenshot 2021-12-13 at 12.08.04 PM.png\n",
      "1German  Learning Tips, Tricks & Resources.pdf\n",
      ".DS_Store\n",
      "Screenshot 2021-11-29 at 3.37.32 PM.png\n",
      "Screenshot 2021-10-09 at 8.26.22 PM.png\n",
      "Screenshot 2021-12-12 at 11.06.56 PM.png\n",
      "Screenshot 2021-10-09 at 8.21.26 PM.png\n",
      "Screenshot 2021-09-23 at 12.29.13 PM.png\n",
      "FML Lab 2 - Abhimanyu Bhowmik.pdf\n",
      "Screenshot 2021-10-23 at 12.15.15 PM.png\n",
      "Screenshot 2021-11-27 at 11.42.43 PM.png\n",
      "Screenshot 2022-01-21 at 12.00.12 PM.png\n",
      "Screenshot 2021-11-25 at 10.46.48 AM.png\n",
      "Screenshot 2021-11-24 at 9.41.01 PM.png\n",
      "Screenshot 2021-11-24 at 9.49.04 PM.png\n",
      ".localized\n",
      "Screenshot 2021-12-02 at 8.57.32 PM.png\n",
      "Screenshot 2021-11-29 at 2.58.20 PM.png\n",
      "Screenshot 2022-01-14 at 10.43.13 PM.png\n",
      "Screenshot 2021-10-19 at 1.14.24 PM.png\n",
      "Screenshot 2021-11-24 at 9.57.51 PM.png\n",
      "Screenshot 2021-12-11 at 1.35.51 PM.png\n",
      "inbox_4440537_f7e0ec8768b70877d8045858a896bd42_prob.png\n",
      "Screenshot 2021-10-18 at 3.51.56 PM.png\n",
      "~$himanyu Bhowmik AI 008 Assignment 10.docx\n",
      "Screenshot 2021-11-02 at 12.33.27 PM.png\n",
      "Screenshot 2021-12-07 at 9.50.30 PM.png\n",
      "Screenshot 2021-10-18 at 3.52.43 PM.png\n",
      "Screenshot 2021-10-09 at 8.23.50 PM.png\n",
      "f30485bc-e28a-46d7-b08a-0719e2623888.png\n",
      ".tmp.drivedownload\n",
      "Screenshot 2021-10-09 at 8.12.22 PM.png\n",
      "Screenshot 2021-11-26 at 12.48.04 PM.png\n",
      "Screenshot 2021-10-05 at 3.36.59 PM.png\n",
      "Screenshot 2021-11-22 at 2.59.56 PM.png\n",
      "Screenshot 2021-11-05 at 1.14.20 PM.png\n",
      "0d3bcf73-cc16-42d5-aa81-6f201a10ccb8.png\n",
      ".DS_Store 7\n",
      "NewSyllabus_a885b5dc-625a-4fb1-868e-4c706ec7eb30.pdf\n",
      "5caddfc40c0a8026390904.pdf\n",
      ".DS_Store 6\n",
      "Screenshot 2021-10-26 at 1.08.01 PM.png\n",
      "Screenshot 2021-11-25 at 10.27.54 AM.png\n",
      "Screenshot 2021-11-25 at 10.23.38 AM.png\n",
      "Screenshot 2021-11-02 at 12.28.33 PM.png\n",
      "d1d3cb10-45db-4907-b2ce-0b940ea21735.jpg\n",
      "output.png\n",
      "Screenshot 2021-11-24 at 9.51.56 PM.png\n",
      "Screenshot 2021-11-24 at 9.55.47 PM.png\n",
      "Screenshot 2021-11-24 at 9.34.37 PM.png\n",
      "Screenshot 2021-11-05 at 1.18.33 PM.png\n",
      "Screenshot 2021-11-24 at 9.32.44 PM.png\n",
      "Screenshot 2021-12-06 at 9.17.51 PM.png\n",
      "Eng_map.jpeg\n",
      "Screenshot 2021-10-21 at 1.12.45 PM.png\n",
      "909c7a91-b42a-4a21-841b-4a06a5314661.png\n",
      "Screenshot 2022-01-16 at 11.40.14 PM.png\n",
      "agronomy-11-00282-v2.pdf\n",
      "Screenshot 2021-12-12 at 11.10.15 PM.png\n",
      "Screenshot 2021-11-18 at 12.56.25 PM.png\n",
      "Screenshot 2021-11-05 at 12.34.15 PM.png\n",
      "Screenshot 2021-10-28 at 1.08.43 PM.png\n",
      "Screenshot 2021-11-25 at 10.20.27 AM.png\n",
      "94e3e437-447a-4d17-9c6a-a4ed868ec915.png\n",
      "Screenshot 2021-10-21 at 12.46.36 PM.png\n",
      "Screenshot 2021-11-24 at 9.54.10 PM.png\n",
      "Screenshot 2022-01-04 at 3.05.36 PM.png\n",
      "c9ec6853-86de-4da3-89f7-888985fdd970.png\n",
      "Screenshot 2021-09-21 at 12.56.41 PM.png\n",
      "Screenshot 2021-10-21 at 12.56.35 PM.png\n",
      "Screenshot 2021-12-30 at 8.31.55 PM.png\n",
      "Screenshot 2021-10-29 at 12.47.59 PM.png\n",
      "5ccbd20b51f1b655568615.pdf\n",
      "Screenshot 2021-10-09 at 8.26.48 PM.png\n",
      "Full Stack Data Science.pdf\n",
      "ccavResponseHandler.pdf\n",
      "Screenshot 2021-09-23 at 12.57.50 PM.png\n",
      "b010e2cd-8c94-4589-bd7b-d1c77c7e6cde.png\n",
      "(Information science and statistics) Christopher M. Bishop - Pattern Recognition and Machine Learning-Springer (2006).pdf\n",
      "Screenshot 2021-10-19 at 1.02.57 PM.png\n",
      "Screenshot 2021-11-02 at 1.06.29 PM.png\n",
      "\n"
     ]
    }
   ],
   "source": [
    "print(output(l))"
   ]
  },
  {
   "cell_type": "code",
   "execution_count": 7,
   "metadata": {},
   "outputs": [
    {
     "name": "stdout",
     "output_type": "stream",
     "text": [
      "Screenshot 2022-01-02 at 12.12.45 PM.png\n",
      "inbox_4440537_a717c1758e1061d3b8524ad4cf495795_ml.png\n",
      "Experience Letter_Wenergy_Abhimanyu..pdf\n",
      "Screenshot 2021-10-25 at 2.39.12 PM.png\n",
      ".DS_Store 4\n",
      "670261e0-84ee-43e7-b7f2-a73b02fd4db9.png\n",
      ".DS_Store 3\n",
      "Screenshot 2022-01-23 at 11.50.46 AM.png\n",
      "Screenshot 2021-12-11 at 1.37.03 PM.png\n",
      ".DS_Store 2\n",
      ".DS_Store 5\n",
      "0e782911-9944-4546-b9fd-df66d087b28d.png\n",
      "Screenshot 2021-12-13 at 12.08.04 PM.png\n",
      "1German  Learning Tips, Tricks & Resources.pdf\n",
      ".DS_Store\n",
      "Screenshot 2021-11-29 at 3.37.32 PM.png\n",
      "Screenshot 2021-10-09 at 8.26.22 PM.png\n",
      "Screenshot 2021-12-12 at 11.06.56 PM.png\n",
      "Screenshot 2021-10-09 at 8.21.26 PM.png\n",
      "Screenshot 2021-09-23 at 12.29.13 PM.png\n",
      "FML Lab 2 - Abhimanyu Bhowmik.pdf\n",
      "Screenshot 2021-10-23 at 12.15.15 PM.png\n",
      "Screenshot 2021-11-27 at 11.42.43 PM.png\n",
      "Screenshot 2022-01-21 at 12.00.12 PM.png\n",
      "Screenshot 2021-11-25 at 10.46.48 AM.png\n",
      "Screenshot 2021-11-24 at 9.41.01 PM.png\n",
      "Screenshot 2021-11-24 at 9.49.04 PM.png\n",
      ".localized\n",
      "Screenshot 2021-12-02 at 8.57.32 PM.png\n",
      "Screenshot 2021-11-29 at 2.58.20 PM.png\n",
      "Screenshot 2022-01-14 at 10.43.13 PM.png\n",
      "Screenshot 2021-10-19 at 1.14.24 PM.png\n",
      "Screenshot 2021-11-24 at 9.57.51 PM.png\n",
      "Screenshot 2021-12-11 at 1.35.51 PM.png\n",
      "inbox_4440537_f7e0ec8768b70877d8045858a896bd42_prob.png\n",
      "Screenshot 2021-10-18 at 3.51.56 PM.png\n",
      "~$himanyu Bhowmik AI 008 Assignment 10.docx\n",
      "Screenshot 2021-11-02 at 12.33.27 PM.png\n",
      "Screenshot 2021-12-07 at 9.50.30 PM.png\n",
      "Screenshot 2021-10-18 at 3.52.43 PM.png\n",
      "Screenshot 2021-10-09 at 8.23.50 PM.png\n",
      "f30485bc-e28a-46d7-b08a-0719e2623888.png\n",
      ".tmp.drivedownload\n",
      "Screenshot 2021-10-09 at 8.12.22 PM.png\n",
      "Screenshot 2021-11-26 at 12.48.04 PM.png\n",
      "Screenshot 2021-10-05 at 3.36.59 PM.png\n",
      "Screenshot 2021-11-22 at 2.59.56 PM.png\n",
      "Screenshot 2021-11-05 at 1.14.20 PM.png\n",
      "0d3bcf73-cc16-42d5-aa81-6f201a10ccb8.png\n",
      ".DS_Store 7\n",
      "NewSyllabus_a885b5dc-625a-4fb1-868e-4c706ec7eb30.pdf\n",
      "5caddfc40c0a8026390904.pdf\n",
      ".DS_Store 6\n",
      "Screenshot 2021-10-26 at 1.08.01 PM.png\n",
      "Screenshot 2021-11-25 at 10.27.54 AM.png\n",
      "Screenshot 2021-11-25 at 10.23.38 AM.png\n",
      "Screenshot 2021-11-02 at 12.28.33 PM.png\n",
      "d1d3cb10-45db-4907-b2ce-0b940ea21735.jpg\n",
      "output.png\n",
      "Screenshot 2021-11-24 at 9.51.56 PM.png\n",
      "Screenshot 2021-11-24 at 9.55.47 PM.png\n",
      "Screenshot 2021-11-24 at 9.34.37 PM.png\n",
      "Screenshot 2021-11-05 at 1.18.33 PM.png\n",
      "Screenshot 2021-11-24 at 9.32.44 PM.png\n",
      "Screenshot 2021-12-06 at 9.17.51 PM.png\n",
      "Eng_map.jpeg\n",
      "Screenshot 2021-10-21 at 1.12.45 PM.png\n",
      "909c7a91-b42a-4a21-841b-4a06a5314661.png\n",
      "Screenshot 2022-01-16 at 11.40.14 PM.png\n",
      "agronomy-11-00282-v2.pdf\n",
      "Screenshot 2021-12-12 at 11.10.15 PM.png\n",
      "Screenshot 2021-11-18 at 12.56.25 PM.png\n",
      "Screenshot 2021-11-05 at 12.34.15 PM.png\n",
      "Screenshot 2021-10-28 at 1.08.43 PM.png\n",
      "Screenshot 2021-11-25 at 10.20.27 AM.png\n",
      "94e3e437-447a-4d17-9c6a-a4ed868ec915.png\n",
      "Screenshot 2021-10-21 at 12.46.36 PM.png\n",
      "Screenshot 2021-11-24 at 9.54.10 PM.png\n",
      "Screenshot 2022-01-04 at 3.05.36 PM.png\n",
      "c9ec6853-86de-4da3-89f7-888985fdd970.png\n",
      "Screenshot 2021-09-21 at 12.56.41 PM.png\n",
      "Screenshot 2021-10-21 at 12.56.35 PM.png\n",
      "Screenshot 2021-12-30 at 8.31.55 PM.png\n",
      "Screenshot 2021-10-29 at 12.47.59 PM.png\n",
      "5ccbd20b51f1b655568615.pdf\n",
      "Screenshot 2021-10-09 at 8.26.48 PM.png\n",
      "Full Stack Data Science.pdf\n",
      "ccavResponseHandler.pdf\n",
      "Screenshot 2021-09-23 at 12.57.50 PM.png\n",
      "b010e2cd-8c94-4589-bd7b-d1c77c7e6cde.png\n",
      "(Information science and statistics) Christopher M. Bishop - Pattern Recognition and Machine Learning-Springer (2006).pdf\n",
      "Screenshot 2021-10-19 at 1.02.57 PM.png\n",
      "Screenshot 2021-11-02 at 1.06.29 PM.png\n"
     ]
    }
   ],
   "source": [
    "for i in l:\n",
    "    print(i)"
   ]
  },
  {
   "cell_type": "code",
   "execution_count": 9,
   "metadata": {},
   "outputs": [
    {
     "name": "stdout",
     "output_type": "stream",
     "text": [
      "120\n"
     ]
    },
    {
     "ename": "KeyboardInterrupt",
     "evalue": "",
     "output_type": "error",
     "traceback": [
      "\u001b[0;31m---------------------------------------------------------------------------\u001b[0m",
      "\u001b[0;31mKeyboardInterrupt\u001b[0m                         Traceback (most recent call last)",
      "\u001b[0;32m/var/folders/sq/tgwnpqpj05d9hxw0k9wm60bw0000gn/T/ipykernel_58412/2767085758.py\u001b[0m in \u001b[0;36m<module>\u001b[0;34m\u001b[0m\n\u001b[1;32m     32\u001b[0m \u001b[0mOutput\u001b[0m\u001b[0;34m.\u001b[0m\u001b[0mpack\u001b[0m\u001b[0;34m(\u001b[0m\u001b[0;34m)\u001b[0m\u001b[0;34m\u001b[0m\u001b[0;34m\u001b[0m\u001b[0m\n\u001b[1;32m     33\u001b[0m \u001b[0;34m\u001b[0m\u001b[0m\n\u001b[0;32m---> 34\u001b[0;31m \u001b[0mmainloop\u001b[0m\u001b[0;34m(\u001b[0m\u001b[0;34m)\u001b[0m\u001b[0;34m\u001b[0m\u001b[0;34m\u001b[0m\u001b[0m\n\u001b[0m",
      "\u001b[0;32m/Library/Frameworks/Python.framework/Versions/3.9/lib/python3.9/tkinter/__init__.py\u001b[0m in \u001b[0;36mmainloop\u001b[0;34m(n)\u001b[0m\n\u001b[1;32m    601\u001b[0m \u001b[0;32mdef\u001b[0m \u001b[0mmainloop\u001b[0m\u001b[0;34m(\u001b[0m\u001b[0mn\u001b[0m\u001b[0;34m=\u001b[0m\u001b[0;36m0\u001b[0m\u001b[0;34m)\u001b[0m\u001b[0;34m:\u001b[0m\u001b[0;34m\u001b[0m\u001b[0;34m\u001b[0m\u001b[0m\n\u001b[1;32m    602\u001b[0m     \u001b[0;34m\"\"\"Run the main loop of Tcl.\"\"\"\u001b[0m\u001b[0;34m\u001b[0m\u001b[0;34m\u001b[0m\u001b[0m\n\u001b[0;32m--> 603\u001b[0;31m     \u001b[0m_get_default_root\u001b[0m\u001b[0;34m(\u001b[0m\u001b[0;34m'run the main loop'\u001b[0m\u001b[0;34m)\u001b[0m\u001b[0;34m.\u001b[0m\u001b[0mtk\u001b[0m\u001b[0;34m.\u001b[0m\u001b[0mmainloop\u001b[0m\u001b[0;34m(\u001b[0m\u001b[0mn\u001b[0m\u001b[0;34m)\u001b[0m\u001b[0;34m\u001b[0m\u001b[0;34m\u001b[0m\u001b[0m\n\u001b[0m\u001b[1;32m    604\u001b[0m \u001b[0;34m\u001b[0m\u001b[0m\n\u001b[1;32m    605\u001b[0m \u001b[0;34m\u001b[0m\u001b[0m\n",
      "\u001b[0;31mKeyboardInterrupt\u001b[0m: "
     ]
    }
   ],
   "source": [
    "from tkinter import *\n",
    " \n",
    "root = Tk()\n",
    "root.geometry(\"300x300\")\n",
    "root.title(\" Q&A \")\n",
    " \n",
    "def Take_input():\n",
    "    INPUT = inputtxt.get(\"1.0\", \"end-1c\")\n",
    "    print(INPUT)\n",
    "    if(INPUT == \"120\"):\n",
    "        Output.insert(END, 'Correct')\n",
    "    else:\n",
    "        Output.insert(END, \"Wrong answer\")\n",
    "     \n",
    "l = Label(text = \"What is 24 * 5 ? \")\n",
    "inputtxt = Text(root, height = 10,\n",
    "                width = 25,\n",
    "                bg = \"light yellow\")\n",
    " \n",
    "Output = Text(root, height = 5,\n",
    "              width = 25,\n",
    "              bg = \"light cyan\")\n",
    " \n",
    "Display = Button(root, height = 2,\n",
    "                 width = 20,\n",
    "                 text =\"Show\",\n",
    "                 command = lambda:Take_input())\n",
    " \n",
    "l.pack()\n",
    "inputtxt.pack()\n",
    "Display.pack()\n",
    "Output.pack()\n",
    " \n",
    "mainloop()"
   ]
  },
  {
   "cell_type": "code",
   "execution_count": 3,
   "metadata": {},
   "outputs": [],
   "source": [
    "from PyPDF2 import PdfFileMerger\n",
    "\n",
    "pdfs = ['/Users/abhimanyubhowmik/Desktop/FML Lab 2 - Abhimanyu Bhowmik.pdf', '/Users/abhimanyubhowmik/Desktop/agronomy-11-00282-v2.pdf']\n",
    "\n",
    "merger = PdfFileMerger(strict=False)\n",
    "\n",
    "for pdf in pdfs:\n",
    "    merger.append(pdf)\n",
    "\n",
    "merger.write(\"result.pdf\")\n",
    "merger.close()"
   ]
  },
  {
   "cell_type": "code",
   "execution_count": 4,
   "metadata": {},
   "outputs": [],
   "source": [
    "d = {'a':2,'b':5}"
   ]
  },
  {
   "cell_type": "code",
   "execution_count": 12,
   "metadata": {},
   "outputs": [
    {
     "name": "stdout",
     "output_type": "stream",
     "text": [
      "['a', 'b', 'c']\n"
     ]
    },
    {
     "data": {
      "text/plain": [
       "'c'"
      ]
     },
     "execution_count": 12,
     "metadata": {},
     "output_type": "execute_result"
    }
   ],
   "source": [
    "a_dictionary = {\"a\": 1, \"b\": 2, \"c\":3}\n",
    "keys_list = list(a_dictionary.keys())\n",
    "key = keys_list[len(keys_list)-1]\n",
    "key"
   ]
  },
  {
   "cell_type": "code",
   "execution_count": 15,
   "metadata": {},
   "outputs": [
    {
     "data": {
      "text/plain": [
       "'/Users/abhimanyubhowmik/Documents/Python/inuron_assignments'"
      ]
     },
     "execution_count": 15,
     "metadata": {},
     "output_type": "execute_result"
    }
   ],
   "source": [
    "pwd()"
   ]
  },
  {
   "cell_type": "code",
   "execution_count": null,
   "metadata": {},
   "outputs": [],
   "source": [
    "import logging\n",
    "import os\n",
    "from pathlib import Path\n",
    "\n",
    "path = Path(os.getcwd())\n",
    "path_location = str(path.parent)\n",
    "\n",
    "File = path_location + '/' + \"pdf_merger_app.log\"\n",
    "\n",
    "logging.basicConfig(filename = File, level = logging.INFO, format = '%(asctime)s %(levelname)s %(message)s')"
   ]
  }
 ],
 "metadata": {
  "interpreter": {
   "hash": "aee8b7b246df8f9039afb4144a1f6fd8d2ca17a180786b69acc140d282b71a49"
  },
  "kernelspec": {
   "display_name": "Python 3.9.7 64-bit",
   "language": "python",
   "name": "python3"
  },
  "language_info": {
   "codemirror_mode": {
    "name": "ipython",
    "version": 3
   },
   "file_extension": ".py",
   "mimetype": "text/x-python",
   "name": "python",
   "nbconvert_exporter": "python",
   "pygments_lexer": "ipython3",
   "version": "3.9.7"
  },
  "orig_nbformat": 4
 },
 "nbformat": 4,
 "nbformat_minor": 2
}
