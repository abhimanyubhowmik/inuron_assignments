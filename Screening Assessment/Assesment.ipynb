{
 "cells": [
  {
   "cell_type": "markdown",
   "metadata": {},
   "source": [
    "### 1. Create a function in python to read the text file and replace specific content of the file."
   ]
  },
  {
   "cell_type": "markdown",
   "metadata": {},
   "source": [
    "#### Original File Content"
   ]
  },
  {
   "cell_type": "code",
   "execution_count": 17,
   "metadata": {},
   "outputs": [],
   "source": [
    "with open('example.txt','w') as f:\n",
    "    f.write('This is a Placement Assignment.') "
   ]
  },
  {
   "cell_type": "code",
   "execution_count": 18,
   "metadata": {},
   "outputs": [
    {
     "name": "stdout",
     "output_type": "stream",
     "text": [
      "This is a Placement Assignment.\n"
     ]
    }
   ],
   "source": [
    "with open('example.txt', 'r') as f:\n",
    "    print(f.read())"
   ]
  },
  {
   "cell_type": "markdown",
   "metadata": {},
   "source": [
    "#### Replacing String"
   ]
  },
  {
   "cell_type": "code",
   "execution_count": 19,
   "metadata": {},
   "outputs": [],
   "source": [
    "# Reading from file\n",
    "with open('example.txt', 'r') as file:\n",
    "    line = file.read()\n",
    "# Replacing string \n",
    "line = line.replace('Placement','Screening')\n",
    "# Writing into file\n",
    "with open('example.txt', 'w') as file:\n",
    "    file.write(line)"
   ]
  },
  {
   "cell_type": "markdown",
   "metadata": {},
   "source": [
    "#### Replaced file content"
   ]
  },
  {
   "cell_type": "code",
   "execution_count": 20,
   "metadata": {},
   "outputs": [
    {
     "name": "stdout",
     "output_type": "stream",
     "text": [
      "This is a Screening Assignment.\n"
     ]
    }
   ],
   "source": [
    "with open('example.txt', 'r') as f:\n",
    "    print(f.read())"
   ]
  },
  {
   "cell_type": "markdown",
   "metadata": {},
   "source": [
    "### 2. Demonstrate use of abstract class, multiple inheritance and decorator in python using examples."
   ]
  },
  {
   "cell_type": "markdown",
   "metadata": {},
   "source": [
    "#### Abstruct Class"
   ]
  },
  {
   "cell_type": "code",
   "execution_count": 21,
   "metadata": {},
   "outputs": [],
   "source": [
    "from abc import ABC, abstractmethod\n",
    "\n",
    "# Abstruct Class (Base Class)\n",
    "\n",
    "class Animal(ABC):\n",
    "\n",
    "    @abstractmethod\n",
    "    def name(self):\n",
    "        pass\n",
    "\n",
    "    @abstractmethod\n",
    "    def sound(self):\n",
    "        pass\n",
    "\n",
    "# Inherited Classes\n",
    "\n",
    "class Dog(Animal):\n",
    "\n",
    "    def name(self):\n",
    "        print(\"It is a Dog!\")\n",
    "\n",
    "    def sound(self):\n",
    "        print(\"Dog Barks!!\")\n",
    "\n",
    "class Cat(Animal):\n",
    "\n",
    "    def name(self):\n",
    "        print(\"It is a Cat!\")\n",
    "    \n",
    "    def sound(self):\n",
    "        print(\"Cat Mews!!\")\n",
    "\n",
    "class Tiger(Animal):\n",
    "\n",
    "    def name(self):\n",
    "        print(\"It is a Tiger!\")\n",
    "\n",
    "    def sound(self):\n",
    "        print(\"Tiger Roars!!\")\n",
    "    \n"
   ]
  },
  {
   "cell_type": "markdown",
   "metadata": {},
   "source": [
    "#### Examples:"
   ]
  },
  {
   "cell_type": "code",
   "execution_count": 22,
   "metadata": {},
   "outputs": [
    {
     "name": "stdout",
     "output_type": "stream",
     "text": [
      "It is a Tiger!\n"
     ]
    }
   ],
   "source": [
    "tiger = Tiger()\n",
    "tiger.name()"
   ]
  },
  {
   "cell_type": "code",
   "execution_count": 23,
   "metadata": {},
   "outputs": [
    {
     "name": "stdout",
     "output_type": "stream",
     "text": [
      "Cat Mews!!\n"
     ]
    }
   ],
   "source": [
    "cat = Cat()\n",
    "cat.sound()"
   ]
  },
  {
   "cell_type": "markdown",
   "metadata": {},
   "source": [
    "#### Multiple Inheritence"
   ]
  },
  {
   "cell_type": "code",
   "execution_count": 24,
   "metadata": {},
   "outputs": [],
   "source": [
    "# Base Class 1\n",
    "\n",
    "class Person:\n",
    "\n",
    "    def name(self):\n",
    "        print('Person Name')\n",
    "    \n",
    "    def age(self):\n",
    "        print('Person Age')\n",
    "\n",
    "# Base Class 2\n",
    "\n",
    "class Student:\n",
    "\n",
    "    def student_id(self):\n",
    "        print('Student ID')\n",
    "    \n",
    "    def university(self):\n",
    "        print('University Name')\n",
    "\n",
    "# Inherited Class\n",
    "\n",
    "class Abhi(Person,Student):\n",
    "\n",
    "    def name(self):\n",
    "        print('Abhimanyu Bhowmik')\n",
    "\n",
    "    def student_id(self):\n",
    "        print('A910119819008')\n",
    "\n"
   ]
  },
  {
   "cell_type": "markdown",
   "metadata": {},
   "source": [
    "#### Examples:"
   ]
  },
  {
   "cell_type": "code",
   "execution_count": 25,
   "metadata": {},
   "outputs": [
    {
     "name": "stdout",
     "output_type": "stream",
     "text": [
      "Abhimanyu Bhowmik\n",
      "Person Age\n",
      "A910119819008\n",
      "University Name\n"
     ]
    }
   ],
   "source": [
    "abhi = Abhi()\n",
    "abhi.name()\n",
    "abhi.age()\n",
    "abhi.student_id()\n",
    "abhi.university()"
   ]
  },
  {
   "cell_type": "markdown",
   "metadata": {},
   "source": [
    "#### Decorators"
   ]
  },
  {
   "cell_type": "code",
   "execution_count": 29,
   "metadata": {},
   "outputs": [],
   "source": [
    "class static_method:\n",
    "\n",
    "    def __init__(self):\n",
    "        self.var = 'This is a variable'\n",
    "\n",
    "    @staticmethod\n",
    "    def static_function():\n",
    "        # Can't acess variable anc methods of the class \n",
    "        # Can't be used by other methods\n",
    "        print('This is a static method.')\n",
    "\n",
    "    def normal_function(self):\n",
    "        # It can acess variables and function of the class\n",
    "        # Can be accessed by other methods\n",
    "        print(self.var)"
   ]
  },
  {
   "cell_type": "code",
   "execution_count": 31,
   "metadata": {},
   "outputs": [
    {
     "name": "stdout",
     "output_type": "stream",
     "text": [
      "This is a static method.\n",
      "This is a variable\n"
     ]
    }
   ],
   "source": [
    "static_method = static_method()\n",
    "static_method.static_function()\n",
    "static_method.normal_function()\n"
   ]
  }
 ],
 "metadata": {
  "interpreter": {
   "hash": "c71dc4b1275d2bca17522ecffd93fee506945b61fa1c27a3defd747785f41921"
  },
  "kernelspec": {
   "display_name": "Python 3.9.7 ('base')",
   "language": "python",
   "name": "python3"
  },
  "language_info": {
   "codemirror_mode": {
    "name": "ipython",
    "version": 3
   },
   "file_extension": ".py",
   "mimetype": "text/x-python",
   "name": "python",
   "nbconvert_exporter": "python",
   "pygments_lexer": "ipython3",
   "version": "3.9.7"
  },
  "orig_nbformat": 4
 },
 "nbformat": 4,
 "nbformat_minor": 2
}
